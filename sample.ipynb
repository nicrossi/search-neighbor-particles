{
 "cells": [
  {
   "metadata": {},
   "cell_type": "markdown",
   "source": [
    "# This is a sample Jupyter Notebook\n",
    "\n",
    "Below is an example of a code cell. \n",
    "Put your cursor into the cell and press Shift+Enter to execute it and select the next one, or click !here goes the icon of the corresponding button in the gutter! button.\n",
    "To debug a cell, press Alt+Shift+Enter, or click !here goes the icon of the corresponding button in the gutter! button.\n",
    "\n",
    "Press Double Shift to search everywhere for classes, files, tool windows, actions, and settings.\n",
    "\n",
    "To learn more about Jupyter Notebooks in PyCharm, see [help](https://www.jetbrains.com/help/pycharm/jupyter-notebook-support.html).\n",
    "For an overview of PyCharm, go to Help -> Learn IDE features or refer to [our documentation](https://www.jetbrains.com/help/pycharm/getting-started.html)."
   ],
   "id": "8a77807f92f26ee"
  },
  {
   "metadata": {
    "ExecuteTime": {
     "end_time": "2025-03-10T21:38:57.412483Z",
     "start_time": "2025-03-10T21:38:57.170965Z"
    }
   },
   "cell_type": "code",
   "source": [
    "import time\n",
    "start_time = time.time()\n",
    "# Total number of particles \n",
    "number_particles = 0 # read input from static line 1\n",
    "\n",
    "# Definition of square L\n",
    "square_length_width = 4 # read input from static line 2\n",
    "\n",
    "# maximum radius of particles\n",
    "radius_maximal = 0 # read input from static. Starting lines 3, column 1\n",
    "\n",
    "# property of particles\n",
    "# read input from static. Starting lines 3, column 2\n",
    "\n",
    "# Definition of interaction radius\n",
    "radius_interaction = 1 # read input txt. not in archives\n",
    "\n",
    "# Binary search for M: L/M > r_c\n",
    "# Implement function\n",
    "\n",
    "# Generate particles \n",
    "particles = [(1, 1), (2,2), (3,3), (1, 2), (2,3), (3,1)] # read input from dynamic starting line 2\n",
    "\n",
    "# consider single lines as time steps \n",
    "# sample starting line 3, columns 2: particle properties later on\n",
    "# cells with size L/M must be \"just bigger\" than interaction radius\n",
    "\n",
    "# Output dictionary\n",
    "output_distances = dict()\n",
    "\n",
    "# dict point then position\n",
    "\n",
    "import math as m\n",
    "from matplotlib import pyplot as plt\n",
    "\n",
    "def colored_figure(total_points, center_point, center_point_neighbor_list):\n",
    "    point_index= 0\n",
    "    for point in total_points:\n",
    "        if point == center_point:\n",
    "            plt.plot(point[0], point[1], 'o', color='red', label = 'center')\n",
    "        elif point_index in center_point_neighbor_list:\n",
    "            plt.plot(point[0], point[1], 'o', color='blue')\n",
    "        else:\n",
    "            plt.plot(point[0], point[1], 'o', color='black')\n",
    "        point_index += 1\n",
    "    if center_point_neighbor_list:\n",
    "        point = total_points[center_point_neighbor_list[0]]\n",
    "        plt.plot(point[0], point[1], 'o', color='blue', label='neighbor')\n",
    "    plt.legend(loc=\"upper left\")\n",
    "    return \n",
    "\n",
    "def brute_force_method(particles, radius_interaction):\n",
    "    number_particles = len(particles)\n",
    "    for p_1 in range(number_particles):\n",
    "        neighbor_index_list = []\n",
    "        for p_2 in range(number_particles): \n",
    "            if p_1 != p_2 and m.dist(particles[p_1], particles[p_2]) <= radius_interaction + 2*radius_maximal: # TODO: check radius correct\n",
    "                neighbor_index_list.append(p_2)\n",
    "        output_distances[p_1] = neighbor_index_list \n",
    "    \n",
    "    point_index = 0 # choose which point to visualize as center\n",
    "    colored_figure(particles, particles[point_index], output_distances[point_index])\n",
    "    return output_distances\n",
    "\n",
    "output = brute_force_method(particles, radius_interaction)\n",
    "execution_time = \"--- %s seconds ---\" % (time.time() - start_time)\n",
    "\n",
    "print(\"--- %s seconds ---\" % (time.time() - start_time))\n",
    "print(output)\n",
    "\n",
    "# output to txt format  \n",
    "with open('output.txt', 'w') as f:\n",
    "    myoutput = \"\\n\" + execution_time\n",
    "    print(myoutput, file=f)\n",
    "    print(output, file=f)"
   ],
   "id": "fbc121e30a2defb3",
   "outputs": [
    {
     "name": "stdout",
     "output_type": "stream",
     "text": [
      "--- 0.023079872131347656 seconds ---\n",
      "{0: [3], 1: [3, 4], 2: [4], 3: [0, 1], 4: [1, 2], 5: []}\n"
     ]
    },
    {
     "data": {
      "text/plain": [
       "<Figure size 640x480 with 1 Axes>"
      ],
      "image/png": "[encoded data removed]"
     },
     "metadata": {},
     "output_type": "display_data"
    }
   ],
   "execution_count": 42
  },
  {
   "metadata": {},
   "cell_type": "code",
   "outputs": [],
   "execution_count": null,
   "source": "",
   "id": "1ac7a580891a44ec"
  }
 ],
 "metadata": {
  "kernelspec": {
   "display_name": "Python 3",
   "language": "python",
   "name": "python3"
  },
  "language_info": {
   "codemirror_mode": {
    "name": "ipython",
    "version": 2
   },
   "file_extension": ".py",
   "mimetype": "text/x-python",
   "name": "python",
   "nbconvert_exporter": "python",
   "pygments_lexer": "ipython2",
   "version": "2.7.6"
  }
 },
 "nbformat": 4,
 "nbformat_minor": 5
}
