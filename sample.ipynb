{
 "cells": [
  {
   "metadata": {},
   "cell_type": "markdown",
   "source": [
    "# This is a sample Jupyter Notebook\n",
    "\n",
    "Below is an example of a code cell. \n",
    "Put your cursor into the cell and press Shift+Enter to execute it and select the next one, or click !here goes the icon of the corresponding button in the gutter! button.\n",
    "To debug a cell, press Alt+Shift+Enter, or click !here goes the icon of the corresponding button in the gutter! button.\n",
    "\n",
    "Press Double Shift to search everywhere for classes, files, tool windows, actions, and settings.\n",
    "\n",
    "To learn more about Jupyter Notebooks in PyCharm, see [help](https://www.jetbrains.com/help/pycharm/jupyter-notebook-support.html).\n",
    "For an overview of PyCharm, go to Help -> Learn IDE features or refer to [our documentation](https://www.jetbrains.com/help/pycharm/getting-started.html)."
   ],
   "id": "8a77807f92f26ee"
  },
  {
   "metadata": {
    "ExecuteTime": {
     "end_time": "2025-03-10T15:36:27.637629Z",
     "start_time": "2025-03-10T15:36:27.629580Z"
    }
   },
   "cell_type": "code",
   "source": [
    "# Definition of square L\n",
    "square_length_width = 4 # read input from sample line 2\n",
    "\n",
    "# maxium radius of particles\n",
    "radius_maximal = 0 # read input from sample. Starting lines 3, column 1\n",
    "\n",
    "# Definition of interaction radius\n",
    "radius_interaction = 1 # read input txt. not in archives\n",
    "\n",
    "particles = [(1, 1), (2,2), (3,3), (1, 2), (2,3), (3,1)] # read input from dynamic starting line 2\n",
    "\n",
    "# dynamic line 1 what for?\n",
    "# sample starting line 3, columns 2: particle properties later on\n",
    "# cells with size L/M must be \"smaller\" than interaction radius\n",
    "\n",
    "output_distances = dict()\n",
    "\n",
    "# dict point then position\n",
    "\n",
    "import math as m\n",
    "def cell_index_method(particles, radius_interaction):\n",
    "    numer_particles = len(particles) # read input from sample line 1\n",
    "    point_line = 0\n",
    "    for p_1 in range(numer_particles):\n",
    "        point_line += 1\n",
    "        points_close = []\n",
    "        point = point_line + 1\n",
    "        for p_2 in range(point_line, numer_particles): #dict entry starts at 0\n",
    "            if m.dist(particles[p_1], particles[p_2]) <= radius_interaction + 2*radius_maximal:\n",
    "                points_close.append(point)\n",
    "            point += 1\n",
    "        output_distances[point_line] = points_close\n",
    "    return output_distances\n",
    "\n",
    "print(cell_index_method(particles, radius_interaction))\n",
    "# output to txt format                "
   ],
   "id": "fbc121e30a2defb3",
   "outputs": [
    {
     "name": "stdout",
     "output_type": "stream",
     "text": [
      "{1: [4], 2: [4, 5], 3: [5], 4: [], 5: [], 6: []}\n"
     ]
    }
   ],
   "execution_count": 15
  },
  {
   "metadata": {},
   "cell_type": "code",
   "outputs": [],
   "execution_count": null,
   "source": "",
   "id": "1ac7a580891a44ec"
  }
 ],
 "metadata": {
  "kernelspec": {
   "display_name": "Python 3",
   "language": "python",
   "name": "python3"
  },
  "language_info": {
   "codemirror_mode": {
    "name": "ipython",
    "version": 2
   },
   "file_extension": ".py",
   "mimetype": "text/x-python",
   "name": "python",
   "nbconvert_exporter": "python",
   "pygments_lexer": "ipython2",
   "version": "2.7.6"
  }
 },
 "nbformat": 4,
 "nbformat_minor": 5
}
